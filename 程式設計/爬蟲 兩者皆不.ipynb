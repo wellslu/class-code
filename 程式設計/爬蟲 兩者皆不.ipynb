{
 "cells": [
  {
   "cell_type": "code",
   "execution_count": null,
   "metadata": {
    "collapsed": true
   },
   "outputs": [],
   "source": [
    "import requests\n",
    "import json\n",
    "res = requests.get('url')\n",
    "data = json.loads(res.text)\n",
    "clean = data['prods']\n",
    "for item in clean:\n",
    "    print(item[''],item['price'])\n",
    "    \n",
    "import shutil\n",
    "for item in clean:\n",
    "    fname=item[''].split('')[]\n",
    "    res2=requests.get('pic url',stream=True)\n",
    "    f = open(fname,'wb')\n",
    "    shutil.copyfileobj(res2.raw,f)\n",
    "    f.close()\n",
    "    \n",
    "with open('test.csv','w',encoding='big5') as myfile:\n",
    "    data.writerow(['商品名','價錢'])\n",
    "    mylist = []\n",
    "    for item in clean:\n",
    "        mylist.append(item['name'])\n",
    "        mylist.append(item['price'])\n",
    "        data.writerow(mylist)\n",
    "        mylist=[]"
   ]
  }
 ],
 "metadata": {
  "kernelspec": {
   "display_name": "Python 3",
   "language": "python",
   "name": "python3"
  },
  "language_info": {
   "codemirror_mode": {
    "name": "ipython",
    "version": 3
   },
   "file_extension": ".py",
   "mimetype": "text/x-python",
   "name": "python",
   "nbconvert_exporter": "python",
   "pygments_lexer": "ipython3",
   "version": "3.7.3"
  }
 },
 "nbformat": 4,
 "nbformat_minor": 2
}
