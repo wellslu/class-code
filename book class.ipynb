{
 "cells": [
  {
   "cell_type": "code",
   "execution_count": 115,
   "metadata": {},
   "outputs": [
    {
     "name": "stdout",
     "output_type": "stream",
     "text": [
      "5\n",
      "4\n",
      "3\n"
     ]
    }
   ],
   "source": [
    "a=[5,1,2]\n",
    "b=[2,1,3]\n",
    "for c in a:\n",
    "    if(c>2):\n",
    "        print(a[0]*b[1])\n",
    "    elif(c<2):\n",
    "        print(a[2]+b[0])\n",
    "    else:\n",
    "        print(len(b))"
   ]
  },
  {
   "cell_type": "code",
   "execution_count": 108,
   "metadata": {},
   "outputs": [
    {
     "name": "stdout",
     "output_type": "stream",
     "text": [
      "5\n",
      "1\n",
      "2\n",
      "4\n",
      "3\n",
      "2\n",
      "2\n",
      "3\n"
     ]
    }
   ],
   "source": [
    "a=[5,1,2]\n",
    "d=[4,3]\n",
    "b=[2,2,3]\n",
    "a.append(d)\n",
    "a[3].append(b)\n",
    "for e in a:\n",
    "    if isinstance(e,list):\n",
    "        for f in e:\n",
    "            if isinstance(f,list):\n",
    "                for g in f:\n",
    "                    print(g)\n",
    "            else:\n",
    "                print(f)\n",
    "    else:\n",
    "        print(e)"
   ]
  },
  {
   "cell_type": "code",
   "execution_count": 95,
   "metadata": {},
   "outputs": [
    {
     "data": {
      "text/plain": [
       "[5, 1, 2]"
      ]
     },
     "execution_count": 95,
     "metadata": {},
     "output_type": "execute_result"
    }
   ],
   "source": [
    "a"
   ]
  },
  {
   "cell_type": "code",
   "execution_count": 109,
   "metadata": {},
   "outputs": [
    {
     "name": "stdout",
     "output_type": "stream",
     "text": [
      "3\n",
      "[1, 2, [4, 3]]\n"
     ]
    }
   ],
   "source": [
    "h=a.pop()\n",
    "i=h.pop()\n",
    "j=i.pop()\n",
    "a.remove(5)\n",
    "a.append(h)\n",
    "print(j)\n",
    "print(a)"
   ]
  },
  {
   "cell_type": "code",
   "execution_count": 117,
   "metadata": {},
   "outputs": [
    {
     "name": "stdout",
     "output_type": "stream",
     "text": [
      "[1, 2, [4, 3]]\n"
     ]
    }
   ],
   "source": [
    "a=[5,1,2,[4,3,[2,2,3]]]\n",
    "del a[3][2]\n",
    "del a[0]\n",
    "print(a)"
   ]
  },
  {
   "cell_type": "code",
   "execution_count": 3,
   "metadata": {},
   "outputs": [
    {
     "name": "stdout",
     "output_type": "stream",
     "text": [
      "請輸入攝氏溫度:6\n",
      "華氏溫度為:%5.1f度 42.8\n"
     ]
    }
   ],
   "source": [
    "def cotf(c):\n",
    "    f=c*1.8+32\n",
    "    return f\n",
    "inputc = float(input(\"請輸入攝氏溫度:\"))\n",
    "print(\"華氏溫度為:%5.1f度\" % cotf(inputc))"
   ]
  },
  {
   "cell_type": "code",
   "execution_count": 9,
   "metadata": {},
   "outputs": [
    {
     "data": {
      "text/plain": [
       "9"
      ]
     },
     "execution_count": 9,
     "metadata": {},
     "output_type": "execute_result"
    }
   ],
   "source": [
    "def func1(a,b,c):\n",
    "    return a+b+c\n",
    "d=func1(2,3,4)\n",
    "d"
   ]
  },
  {
   "cell_type": "code",
   "execution_count": 10,
   "metadata": {},
   "outputs": [
    {
     "name": "stdout",
     "output_type": "stream",
     "text": [
      "10\n",
      "35\n"
     ]
    }
   ],
   "source": [
    "def calsum(*a):\n",
    "    total=0\n",
    "    for p in a:\n",
    "        total += p\n",
    "    return total\n",
    "print(calsum(1,2,3,4))\n",
    "print(calsum(5,6,7,8,9))"
   ]
  },
  {
   "cell_type": "code",
   "execution_count": 21,
   "metadata": {},
   "outputs": [
    {
     "name": "stdout",
     "output_type": "stream",
     "text": [
      "10\n",
      "10\n"
     ]
    }
   ],
   "source": [
    "def scope():\n",
    "    global var1\n",
    "    var1=10\n",
    "    print(var1)\n",
    "scope()\n",
    "print(var1)"
   ]
  },
  {
   "cell_type": "code",
   "execution_count": 25,
   "metadata": {},
   "outputs": [
    {
     "data": {
      "text/plain": [
       "46"
      ]
     },
     "execution_count": 25,
     "metadata": {},
     "output_type": "execute_result"
    }
   ],
   "source": [
    "round(45.5)"
   ]
  },
  {
   "cell_type": "code",
   "execution_count": 26,
   "metadata": {},
   "outputs": [
    {
     "data": {
      "text/plain": [
       "44"
      ]
     },
     "execution_count": 26,
     "metadata": {},
     "output_type": "execute_result"
    }
   ],
   "source": [
    "round(44.5)"
   ]
  },
  {
   "cell_type": "code",
   "execution_count": 27,
   "metadata": {},
   "outputs": [
    {
     "data": {
      "text/plain": [
       "38.8"
      ]
     },
     "execution_count": 27,
     "metadata": {},
     "output_type": "execute_result"
    }
   ],
   "source": [
    "round(38.76,1)"
   ]
  },
  {
   "cell_type": "code",
   "execution_count": 28,
   "metadata": {},
   "outputs": [
    {
     "data": {
      "text/plain": [
       "[1, 3, 5, 7, 9]"
      ]
     },
     "execution_count": 28,
     "metadata": {},
     "output_type": "execute_result"
    }
   ],
   "source": [
    "sorted([3,1,9,5,7])"
   ]
  },
  {
   "cell_type": "code",
   "execution_count": 29,
   "metadata": {},
   "outputs": [
    {
     "data": {
      "text/plain": [
       "[9, 7, 5, 3, 1]"
      ]
     },
     "execution_count": 29,
     "metadata": {},
     "output_type": "execute_result"
    }
   ],
   "source": [
    "sorted([3,1,9,5,7],reverse=True)"
   ]
  },
  {
   "cell_type": "code",
   "execution_count": 34,
   "metadata": {},
   "outputs": [
    {
     "name": "stdout",
     "output_type": "stream",
     "text": [
      "請輸入數字 輸入-1為結束10\n",
      "請輸入數字 輸入-1為結束15\n",
      "請輸入數字 輸入-1為結束20\n",
      "請輸入數字 輸入-1為結束25\n",
      "請輸入數字 輸入-1為結束-1\n",
      "總共輸入 4 個數字\n",
      "最大數字為 25\n",
      "最小數字為 10\n",
      "數字總合為 70\n",
      "由小到大排序[25, 20, 15, 10]\n"
     ]
    }
   ],
   "source": [
    "num=0\n",
    "list=[]\n",
    "while (num !=-1):\n",
    "    num=int(input('請輸入數字 輸入-1為結束'))\n",
    "    list.append(num)\n",
    "list.pop()\n",
    "print('總共輸入 %d 個數字'%len(list))\n",
    "print('最大數字為',max(list))\n",
    "print('最小數字為',min(list))\n",
    "print('數字總合為',sum(list))\n",
    "print('由小到大排序{0}'.format(sorted(list,reverse=True)))"
   ]
  },
  {
   "cell_type": "code",
   "execution_count": 1,
   "metadata": {
    "collapsed": true
   },
   "outputs": [],
   "source": [
    "import os\n",
    "os.mkdir(\"myDir\")"
   ]
  },
  {
   "cell_type": "code",
   "execution_count": 2,
   "metadata": {},
   "outputs": [
    {
     "name": "stdout",
     "output_type": "stream",
     "text": [
      "myDir已建立\n"
     ]
    }
   ],
   "source": [
    "dir=\"myDir\"\n",
    "if not os.path.exists(dir):\n",
    "    os.mkdir(dir)\n",
    "else:\n",
    "    print(dir+\"已建立\")"
   ]
  },
  {
   "cell_type": "code",
   "execution_count": 6,
   "metadata": {
    "collapsed": true
   },
   "outputs": [],
   "source": [
    "os.rmdir(\"myDir\")"
   ]
  },
  {
   "cell_type": "code",
   "execution_count": 72,
   "metadata": {},
   "outputs": [
    {
     "data": {
      "text/plain": [
       "1"
      ]
     },
     "execution_count": 72,
     "metadata": {},
     "output_type": "execute_result"
    }
   ],
   "source": [
    "import os\n",
    "file=\"myfile\"\n",
    "cur_path=os.path.dirname(\"file\")#取得路徑\n",
    "os.system(\"cls\")#清除螢幕\n",
    "os.system(\"mkdir dir2\")#建立目錄\n",
    "os.system(\"copy ossystem.py dir2\\copyfile.py\")#複製檔案\n",
    "file=cur_path+\"\\dir2\\copyfile.py\"\n",
    "os.system(\"notepad\"+file)"
   ]
  },
  {
   "cell_type": "code",
   "execution_count": 23,
   "metadata": {
    "collapsed": true
   },
   "outputs": [],
   "source": [
    "import os.path"
   ]
  },
  {
   "cell_type": "code",
   "execution_count": 87,
   "metadata": {},
   "outputs": [
    {
     "data": {
      "text/plain": [
       "'C:\\\\Users\\\\wells\\\\ospath.py'"
      ]
     },
     "execution_count": 87,
     "metadata": {},
     "output_type": "execute_result"
    }
   ],
   "source": [
    "os.path.abspath(\"ospath.py\")"
   ]
  },
  {
   "cell_type": "code",
   "execution_count": 37,
   "metadata": {},
   "outputs": [
    {
     "data": {
      "text/plain": [
       "'dir2'"
      ]
     },
     "execution_count": 37,
     "metadata": {},
     "output_type": "execute_result"
    }
   ],
   "source": [
    "os.path.basename(\"C:\\\\Users\\\\wells\\\\dir2\")"
   ]
  },
  {
   "cell_type": "code",
   "execution_count": 74,
   "metadata": {},
   "outputs": [
    {
     "ename": "SyntaxError",
     "evalue": "invalid syntax (<ipython-input-74-6253b8bd9c25>, line 1)",
     "output_type": "error",
     "traceback": [
      "\u001b[1;36m  File \u001b[1;32m\"<ipython-input-74-6253b8bd9c25>\"\u001b[1;36m, line \u001b[1;32m1\u001b[0m\n\u001b[1;33m    os.path.dirname(__\"file\"__)\u001b[0m\n\u001b[1;37m                           ^\u001b[0m\n\u001b[1;31mSyntaxError\u001b[0m\u001b[1;31m:\u001b[0m invalid syntax\n"
     ]
    }
   ],
   "source": [
    "os.path.dirname(\"file\")"
   ]
  },
  {
   "cell_type": "code",
   "execution_count": 50,
   "metadata": {},
   "outputs": [
    {
     "data": {
      "text/plain": [
       "65536"
      ]
     },
     "execution_count": 50,
     "metadata": {},
     "output_type": "execute_result"
    }
   ],
   "source": [
    "os.path.getsize(\"C:\\\\Users\\\\wells\")"
   ]
  },
  {
   "cell_type": "code",
   "execution_count": 60,
   "metadata": {},
   "outputs": [
    {
     "data": {
      "text/plain": [
       "False"
      ]
     },
     "execution_count": 60,
     "metadata": {},
     "output_type": "execute_result"
    }
   ],
   "source": [
    "os.path.isabs(\"dir2\")"
   ]
  },
  {
   "cell_type": "code",
   "execution_count": 61,
   "metadata": {},
   "outputs": [
    {
     "data": {
      "text/plain": [
       "True"
      ]
     },
     "execution_count": 61,
     "metadata": {},
     "output_type": "execute_result"
    }
   ],
   "source": [
    "os.path.isabs(\"C:\\\\Users\\\\wells\\\\dir2\")"
   ]
  },
  {
   "cell_type": "code",
   "execution_count": 62,
   "metadata": {},
   "outputs": [
    {
     "data": {
      "text/plain": [
       "False"
      ]
     },
     "execution_count": 62,
     "metadata": {},
     "output_type": "execute_result"
    }
   ],
   "source": [
    "os.path.isfile(\"dir2\")"
   ]
  },
  {
   "cell_type": "code",
   "execution_count": 63,
   "metadata": {},
   "outputs": [
    {
     "data": {
      "text/plain": [
       "True"
      ]
     },
     "execution_count": 63,
     "metadata": {},
     "output_type": "execute_result"
    }
   ],
   "source": [
    "os.path.isfile(\"test.py\")"
   ]
  },
  {
   "cell_type": "code",
   "execution_count": 64,
   "metadata": {},
   "outputs": [
    {
     "data": {
      "text/plain": [
       "True"
      ]
     },
     "execution_count": 64,
     "metadata": {},
     "output_type": "execute_result"
    }
   ],
   "source": [
    "os.path.isdir(\"dir2\")"
   ]
  },
  {
   "cell_type": "code",
   "execution_count": 65,
   "metadata": {},
   "outputs": [
    {
     "data": {
      "text/plain": [
       "('C:\\\\Users\\\\wells', 'dir2')"
      ]
     },
     "execution_count": 65,
     "metadata": {},
     "output_type": "execute_result"
    }
   ],
   "source": [
    "os.path.split(\"C:\\\\Users\\\\wells\\\\dir2\")"
   ]
  },
  {
   "cell_type": "code",
   "execution_count": 67,
   "metadata": {},
   "outputs": [
    {
     "data": {
      "text/plain": [
       "('C:', '\\\\Users\\\\wells\\\\dir2')"
      ]
     },
     "execution_count": 67,
     "metadata": {},
     "output_type": "execute_result"
    }
   ],
   "source": [
    "os.path.splitdrive(\"C:\\\\Users\\\\wells\\\\dir2\")"
   ]
  },
  {
   "cell_type": "code",
   "execution_count": 68,
   "metadata": {},
   "outputs": [
    {
     "data": {
      "text/plain": [
       "'C:\\\\Users\\\\wells\\\\dir2'"
      ]
     },
     "execution_count": 68,
     "metadata": {},
     "output_type": "execute_result"
    }
   ],
   "source": [
    "os.path.join('C:', '\\\\Users\\\\wells\\\\dir2')"
   ]
  },
  {
   "cell_type": "code",
   "execution_count": 92,
   "metadata": {},
   "outputs": [
    {
     "name": "stdout",
     "output_type": "stream",
     "text": [
      "現在目錄路徑：E:\\本書範例\\ch04\n"
     ]
    }
   ],
   "source": [
    "import os.path\n",
    "cur_path='E:\\本書範例\\ch04' # 取得目前目錄路徑\n",
    "print(\"現在目錄路徑：\"+cur_path)\n",
    "\n",
    "filename=os.path.abspath(\"ospath.py\")\n",
    "if os.path.exists(filename):\n",
    "    print(\"完整路徑名稱：\" + filename)\n",
    "    print(\"檔案大小：\" , os.path.getsize)\n",
    "    \n",
    "    basename=os.path.basename(filename)\n",
    "    print(\"最後的檔案或路徑名稱：\" + basename)\n",
    "    \n",
    "    dirname=os.path.dirname(filename)\n",
    "    print(\"目前檔案目錄路徑：\" + dirname) \n",
    "    \n",
    "    print(\"是否為目錄：\",os.path.isdir(filename))\n",
    "    \n",
    "    fullpath,fname=os.path.split(filename)\n",
    "    print(\"目錄路徑：\" + fullpath)\n",
    "    print(\"檔名：\" + fname)\n",
    "    \n",
    "    Drive,fpath=os.path.splitdrive(filename)\n",
    "    print(\"磁碟機：\" + Drive)\n",
    "    print(\"路徑名稱：\" + fpath)   \n",
    "    \n",
    "    fullpath = os.path.join(fullpath + \"\\\\\" + fname)\n",
    "    print(\"組合路徑= \" + fullpath)"
   ]
  },
  {
   "cell_type": "code",
   "execution_count": 91,
   "metadata": {},
   "outputs": [
    {
     "name": "stdout",
     "output_type": "stream",
     "text": [
      "檔案路徑 E:\\本書範例\\ch04\\oswalk\n",
      "目錄串列 ['Dir']\n",
      "檔案串列 ['oswalk.py', 'oswalk1.txt']\n",
      "\n",
      "檔案路徑 E:\\本書範例\\ch04\\oswalk\\Dir\n",
      "目錄串列 ['SubDir']\n",
      "檔案串列 ['Dir1.txt', 'Dir2.txt']\n",
      "\n",
      "檔案路徑 E:\\本書範例\\ch04\\oswalk\\Dir\\SubDir\n",
      "目錄串列 []\n",
      "檔案串列 ['SubDir1.txt']\n",
      "\n"
     ]
    }
   ],
   "source": [
    "import os\n",
    "cur_path='E:\\本書範例\\ch04\\oswalk'\n",
    "sample_tree=os.walk(cur_path)\n",
    "for dirname,subdir,files in sample_tree:\n",
    "    print(\"檔案路徑\",dirname)\n",
    "    print(\"目錄串列\",subdir)\n",
    "    print(\"檔案串列\",files)\n",
    "    print()"
   ]
  },
  {
   "cell_type": "code",
   "execution_count": 93,
   "metadata": {
    "collapsed": true
   },
   "outputs": [],
   "source": [
    "import shutil"
   ]
  },
  {
   "cell_type": "code",
   "execution_count": 100,
   "metadata": {},
   "outputs": [
    {
     "ename": "FileNotFoundError",
     "evalue": "[Errno 2] No such file or directory: 'shutil.py'",
     "output_type": "error",
     "traceback": [
      "\u001b[1;31m---------------------------------------------------------------------------\u001b[0m",
      "\u001b[1;31mFileNotFoundError\u001b[0m                         Traceback (most recent call last)",
      "\u001b[1;32m<ipython-input-100-a9ed1af2a506>\u001b[0m in \u001b[0;36m<module>\u001b[1;34m()\u001b[0m\n\u001b[0;32m      2\u001b[0m \u001b[0mcur_path\u001b[0m\u001b[1;33m=\u001b[0m\u001b[0mos\u001b[0m\u001b[1;33m.\u001b[0m\u001b[0mpath\u001b[0m\u001b[1;33m.\u001b[0m\u001b[0mdirname\u001b[0m\u001b[1;33m(\u001b[0m\u001b[1;34m'E:\\本書範例\\ch04\\file'\u001b[0m\u001b[1;33m)\u001b[0m\u001b[1;33m\u001b[0m\u001b[0m\n\u001b[0;32m      3\u001b[0m \u001b[0mdestfile\u001b[0m\u001b[1;33m=\u001b[0m\u001b[1;34m\"E:\\本書範例\\ch04\\newfile.py\"\u001b[0m\u001b[1;33m\u001b[0m\u001b[0m\n\u001b[1;32m----> 4\u001b[1;33m \u001b[0mshutil\u001b[0m\u001b[1;33m.\u001b[0m\u001b[0mcopy\u001b[0m\u001b[1;33m(\u001b[0m\u001b[1;34m\"shutil.py\"\u001b[0m\u001b[1;33m,\u001b[0m\u001b[0mdestfile\u001b[0m\u001b[1;33m)\u001b[0m\u001b[1;33m\u001b[0m\u001b[0m\n\u001b[0m",
      "\u001b[1;32mC:\\ProgramData\\Anaconda3\\lib\\shutil.py\u001b[0m in \u001b[0;36mcopy\u001b[1;34m(src, dst, follow_symlinks)\u001b[0m\n\u001b[0;32m    239\u001b[0m     \u001b[1;32mif\u001b[0m \u001b[0mos\u001b[0m\u001b[1;33m.\u001b[0m\u001b[0mpath\u001b[0m\u001b[1;33m.\u001b[0m\u001b[0misdir\u001b[0m\u001b[1;33m(\u001b[0m\u001b[0mdst\u001b[0m\u001b[1;33m)\u001b[0m\u001b[1;33m:\u001b[0m\u001b[1;33m\u001b[0m\u001b[0m\n\u001b[0;32m    240\u001b[0m         \u001b[0mdst\u001b[0m \u001b[1;33m=\u001b[0m \u001b[0mos\u001b[0m\u001b[1;33m.\u001b[0m\u001b[0mpath\u001b[0m\u001b[1;33m.\u001b[0m\u001b[0mjoin\u001b[0m\u001b[1;33m(\u001b[0m\u001b[0mdst\u001b[0m\u001b[1;33m,\u001b[0m \u001b[0mos\u001b[0m\u001b[1;33m.\u001b[0m\u001b[0mpath\u001b[0m\u001b[1;33m.\u001b[0m\u001b[0mbasename\u001b[0m\u001b[1;33m(\u001b[0m\u001b[0msrc\u001b[0m\u001b[1;33m)\u001b[0m\u001b[1;33m)\u001b[0m\u001b[1;33m\u001b[0m\u001b[0m\n\u001b[1;32m--> 241\u001b[1;33m     \u001b[0mcopyfile\u001b[0m\u001b[1;33m(\u001b[0m\u001b[0msrc\u001b[0m\u001b[1;33m,\u001b[0m \u001b[0mdst\u001b[0m\u001b[1;33m,\u001b[0m \u001b[0mfollow_symlinks\u001b[0m\u001b[1;33m=\u001b[0m\u001b[0mfollow_symlinks\u001b[0m\u001b[1;33m)\u001b[0m\u001b[1;33m\u001b[0m\u001b[0m\n\u001b[0m\u001b[0;32m    242\u001b[0m     \u001b[0mcopymode\u001b[0m\u001b[1;33m(\u001b[0m\u001b[0msrc\u001b[0m\u001b[1;33m,\u001b[0m \u001b[0mdst\u001b[0m\u001b[1;33m,\u001b[0m \u001b[0mfollow_symlinks\u001b[0m\u001b[1;33m=\u001b[0m\u001b[0mfollow_symlinks\u001b[0m\u001b[1;33m)\u001b[0m\u001b[1;33m\u001b[0m\u001b[0m\n\u001b[0;32m    243\u001b[0m     \u001b[1;32mreturn\u001b[0m \u001b[0mdst\u001b[0m\u001b[1;33m\u001b[0m\u001b[0m\n",
      "\u001b[1;32mC:\\ProgramData\\Anaconda3\\lib\\shutil.py\u001b[0m in \u001b[0;36mcopyfile\u001b[1;34m(src, dst, follow_symlinks)\u001b[0m\n\u001b[0;32m    118\u001b[0m         \u001b[0mos\u001b[0m\u001b[1;33m.\u001b[0m\u001b[0msymlink\u001b[0m\u001b[1;33m(\u001b[0m\u001b[0mos\u001b[0m\u001b[1;33m.\u001b[0m\u001b[0mreadlink\u001b[0m\u001b[1;33m(\u001b[0m\u001b[0msrc\u001b[0m\u001b[1;33m)\u001b[0m\u001b[1;33m,\u001b[0m \u001b[0mdst\u001b[0m\u001b[1;33m)\u001b[0m\u001b[1;33m\u001b[0m\u001b[0m\n\u001b[0;32m    119\u001b[0m     \u001b[1;32melse\u001b[0m\u001b[1;33m:\u001b[0m\u001b[1;33m\u001b[0m\u001b[0m\n\u001b[1;32m--> 120\u001b[1;33m         \u001b[1;32mwith\u001b[0m \u001b[0mopen\u001b[0m\u001b[1;33m(\u001b[0m\u001b[0msrc\u001b[0m\u001b[1;33m,\u001b[0m \u001b[1;34m'rb'\u001b[0m\u001b[1;33m)\u001b[0m \u001b[1;32mas\u001b[0m \u001b[0mfsrc\u001b[0m\u001b[1;33m:\u001b[0m\u001b[1;33m\u001b[0m\u001b[0m\n\u001b[0m\u001b[0;32m    121\u001b[0m             \u001b[1;32mwith\u001b[0m \u001b[0mopen\u001b[0m\u001b[1;33m(\u001b[0m\u001b[0mdst\u001b[0m\u001b[1;33m,\u001b[0m \u001b[1;34m'wb'\u001b[0m\u001b[1;33m)\u001b[0m \u001b[1;32mas\u001b[0m \u001b[0mfdst\u001b[0m\u001b[1;33m:\u001b[0m\u001b[1;33m\u001b[0m\u001b[0m\n\u001b[0;32m    122\u001b[0m                 \u001b[0mcopyfileobj\u001b[0m\u001b[1;33m(\u001b[0m\u001b[0mfsrc\u001b[0m\u001b[1;33m,\u001b[0m \u001b[0mfdst\u001b[0m\u001b[1;33m)\u001b[0m\u001b[1;33m\u001b[0m\u001b[0m\n",
      "\u001b[1;31mFileNotFoundError\u001b[0m: [Errno 2] No such file or directory: 'shutil.py'"
     ]
    }
   ],
   "source": [
    "import os,shutil\n",
    "cur_path=os.path.dirname('E:\\本書範例\\ch04\\file')\n",
    "destfile=\"E:\\本書範例\\ch04\\newfile.py\"\n",
    "shutil.copy(\"shutil.py\",destfile)"
   ]
  },
  {
   "cell_type": "code",
   "execution_count": 106,
   "metadata": {},
   "outputs": [
    {
     "name": "stdout",
     "output_type": "stream",
     "text": [
      "3D Objects\n",
      "Anaconda3\n",
      "AppData\n",
      "Application Data\n",
      "class1.ipynb\n",
      "class2.ipynb\n",
      "class3.ipynb\n",
      "class4.ipynb\n",
      "class5.ipynb\n",
      "Contacts\n",
      "Cookies\n",
      "Desktop\n",
      "dir2\n",
      "Documents\n",
      "Downloads\n",
      "Favorites\n",
      "fname.py\n",
      "homework1.ipynb\n",
      "Homework2-.ipynb\n",
      "Homework2.ipynb\n",
      "IntelGraphicsProfiles\n",
      "Links\n",
      "Local Settings\n",
      "MicrosoftEdgeBackups\n",
      "Music\n",
      "My Documents\n",
      "myfile\n",
      "NetHood\n",
      "node_modules\n",
      "NTUSER.DAT\n",
      "ntuser.dat.LOG1\n",
      "ntuser.dat.LOG2\n",
      "NTUSER.DAT{71db5485-5dc5-11e8-844c-ad1ca9186532}.TM.blf\n",
      "NTUSER.DAT{71db5485-5dc5-11e8-844c-ad1ca9186532}.TMContainer00000000000000000001.regtrans-ms\n",
      "NTUSER.DAT{71db5485-5dc5-11e8-844c-ad1ca9186532}.TMContainer00000000000000000002.regtrans-ms\n",
      "ntuser.ini\n",
      "OneDrive\n",
      "package-lock.json\n",
      "Pictures\n",
      "practice.ipynb\n",
      "PrintHood\n",
      "puff\n",
      "Recent\n",
      "Saved Games\n",
      "Searches\n",
      "SendTo\n",
      "Templates\n",
      "test.ipynb\n",
      "test.py\n",
      "Untitled.ipynb\n",
      "Untitled1.ipynb\n",
      "Untitled2.ipynb\n",
      "Untitled3.ipynb\n",
      "Untitled4.ipynb\n",
      "Videos\n",
      "your-project-name\n",
      "「開始」功能表\n"
     ]
    }
   ],
   "source": [
    "import glob\n",
    "files=glob.glob(\"*\")+glob.glob(\"os*.py\")+glob.glob(\"*.txt\")\n",
    "for file in files:\n",
    "    print(file)"
   ]
  },
  {
   "cell_type": "code",
   "execution_count": 110,
   "metadata": {},
   "outputs": [
    {
     "name": "stdout",
     "output_type": "stream",
     "text": [
      "ParseResult(scheme='http', netloc='taqm.epa.gov.tw:80', path='/pm25/tw/PM25A.aspx', params='', query='area=1', fragment='')\n",
      "scheme=http\n",
      "netloc=taqm.epa.gov.tw:80\n",
      "port=80\n",
      "path=/pm25/tw/PM25A.aspx\n",
      "query=area=1\n",
      "params=\n",
      "fragment=\n"
     ]
    }
   ],
   "source": [
    "from urllib.parse import urlparse\n",
    "url = 'http://taqm.epa.gov.tw:80/pm25/tw/PM25A.aspx?area=1'\n",
    "o = urlparse(url)\n",
    "print(o) \n",
    "\n",
    "print(\"scheme={}\".format(o.scheme))#傳回通訊協定\n",
    "print(\"netloc={}\".format(o.netloc))#傳回網站名稱\n",
    "print(\"port={}\".format(o.port))#傳回通訊埠\n",
    "print(\"path={}\".format(o.path))#傳回路徑\n",
    "print(\"query={}\".format(o.query))#傳回查詢字串，即為GET的參數\n",
    "print(\"params={}\".format(o.params))#傳回url查詢參數params字串\n",
    "print(\"fragment={}\".format(o.fragment))#傳回框架名稱"
   ]
  },
  {
   "cell_type": "code",
   "execution_count": 130,
   "metadata": {},
   "outputs": [
    {
     "name": "stdout",
     "output_type": "stream",
     "text": [
      "\n",
      "<!DOCTYPE html PUBLIC \"-//W3C//DTD XHTML 1.0 Transitional//EN\" \"http://www.w3.org/TR/xhtml1/DTD/xhtml1-transitional.dtd\">\n",
      "<html xmlns=\"http://www.w3.org/1999/xhtml\">\n",
      "<head>\n",
      "<meta http-equiv=\"Content-Type\" content=\"text/html; charset=utf-8\" />\n",
      "<meta name=\"viewport\" content=\"width=device-width; initial-scale=1.0; maximum-scale=1.0; user-scalable=0;\">\n",
      "<link rel=\"shortcut icon\" href=\"favicon.ico\" />\n",
      "<title>eHappy 文淵閣工作室 : 快樂分享、快樂學習</title>\n",
      "<meta property=\"og:url\" content=\"http://www.e-happy.com.tw\" />\n",
      "<meta property=\"og:title\" content=\"eHappy 文淵閣工作室 : 快樂分享、快樂學習\" />\n",
      "<meta property=\"og:image\" content=\"http://www.e-happy.com.tw/eHappyLogo.jpg\" />\n",
      "<style type=\"text/css\">\n",
      "<!--\n",
      "#TabbedPanels1 {\n",
      "\tbackground-image: url(images/tabhead1.png);\n",
      "\tbackground-repeat: no-repeat;\n",
      "\tbackground-position: left top;\n",
      "}\n",
      "#TabbedPanels1 .TabbedPanelsTabGroup {\n",
      "\tpadding-left: 120px;\n",
      "}\n",
      "#TabbedPanels1 .TabbedPanelsContentGroup .TabbedPanelsContent.TabbedPanelsContentVisible {\n",
      "\tpadding: 10px;\n",
      "\theight: 280px;\n",
      "\ttext-align: left;\n",
      "}\n",
      "#TabbedPanels2 {\n",
      "\tbackground-image: url(images/tabhead2.png);\n",
      "\tbackground-repeat: no-repeat;\n",
      "\tbackground-position: left top;\n",
      "}\n",
      "#TabbedPanels2 .TabbedPanelsTabGroup {\n",
      "\tpadding-left: 120px;\n",
      "}\n",
      "#TabbedPanels2 .TabbedPanelsContentGroup .TabbedPanelsContent.TabbedPanelsContentVisible {\n",
      "\tpadding: 10px;\n",
      "\theight: 250px;\n",
      "\ttext-align: left;\n",
      "}\n",
      "-->\n",
      "</style>\n",
      "<script src=\"Scripts/SpryData.js\" type=\"text/javascript\" language=\"javascript\"></script>\n",
      "<script src=\"Scripts/SpryEffects.js\" type=\"text/javascript\"></script>\n",
      "<script src=\"Scripts/SpryTabbedPanels.js\" type=\"text/javascript\"></script>\n",
      "<script src=\"Scripts/SpryMenuBar.js\" type=\"text/javascript\"></script>\n",
      "<script type=\"text/javascript\">function $(id) {\n",
      "    return document.getElementById(id);\n",
      "}\n",
      "\n",
      "function showMenu (baseID, divID) {\n",
      "    baseID = $(baseID);\n",
      "    divID  = $(divID);\n",
      "    if (showMenu.timer) clearTimeout(showMenu.timer);\n",
      "\thideCur();\n",
      "    divID.style.display = 'block';\n",
      "\tshowMenu.cur = divID;\n",
      "\n",
      "    if (! divID.isCreate) {\n",
      "        divID.isCreate = true;\n",
      "        //divID.timer = 0;\n",
      "        divID.onmouseover = function () {\n",
      "            if (showMenu.timer) clearTimeout(showMenu.timer);\n",
      "\t\t\thideCur();\n",
      "            divID.style.display = 'block';\n",
      "        };\n",
      "\n",
      "        function hide () {\n",
      "            showMenu.timer = setTimeout(function () {divID.style.display = 'none';}, 1000);\n",
      "        }\n",
      "\n",
      "        divID.onmouseout = hide;\n",
      "        baseID.onmouseout = hide;\n",
      "    }\n",
      "\tfunction hideCur () {\n",
      "\t\tshowMenu.cur && (showMenu.cur.style.display = 'none');\n",
      "\t}\n",
      "}\n",
      "function MM_effectAppearFade(targetElement, duration, from, to, toggle){\n",
      "\tSpry.Effect.DoFade(targetElement, {duration: duration, from: from, to: to, toggle: toggle});\n",
      "}\n",
      "</script>\n",
      "<link href=\"Scripts/SpryTabbedPanels.css\" rel=\"stylesheet\" type=\"text/css\" />\n",
      "<link href=\"Scripts/SpryMenuBarHorizontal.css\" rel=\"stylesheet\" type=\"text/css\" />\n",
      "<link href=\"style.css\" rel=\"stylesheet\" type=\"text/css\" />\n",
      "<body>\n",
      "<div id=\"fb-root\"></div>\n",
      "<script>(function(d, s, id) {\n",
      "  var js, fjs = d.getElementsByTagName(s)[0];\n",
      "  if (d.getElementById(id)) return;\n",
      "  js = d.createElement(s); js.id = id;\n",
      "  js.src = \"//connect.facebook.net/zh_TW/all.js#xfbml=1&appId=184089305085460\";\n",
      "  fjs.parentNode.insertBefore(js, fjs);\n",
      "}(document, 'script', 'facebook-jssdk'));</script> \n",
      "<div id=\"warp\">\n",
      "  <table width=\"920\" border=\"0\" align=\"center\" cellpadding=\"0\" cellspacing=\"0\">\n",
      "    <tr>\n",
      "      <td height=\"90\" colspan=\"4\">      \n",
      "      <div id=\"sitelogo\"></div>        \n",
      "        <div id=\"topsearch\">\n",
      "          <form id=\"searchform\" name=\"searchform\" method=\"get\" action=\"http://www.e-happy.com.tw/indexsearch.asp\">\n",
      "            <table width=\"100%\" border=\"0\" cellspacing=\"0\" cellpadding=\"0\">\n",
      "              <tr>\n",
      "                <td width=\"49\" align=\"left\">&nbsp;</td>\n",
      "                <td width=\"131\" align=\"left\">\n",
      "                <input name=\"q\" type=\"text\" class=\"searchform\" id=\"textfield\" />\n",
      "                <input type=\"hidden\" name=\"cx\" value=\"012580574557368896905:0nsotxaxcgg\" />\n",
      "                <input type=\"hidden\" name=\"cof\" value=\"FORID:9\" />\n",
      "                <input type=\"hidden\" name=\"ie\" value=\"UTF-8\" />\n",
      "                </td>\n",
      "                <td width=\"30\"><a href=\"javascript:searchform.submit();\"><img src=\"images/ehappy2010_r2_c12.gif\" width=\"22\" height=\"22\" border=\"0\" align=\"absmiddle\" /></a></td>\n",
      "              </tr>\n",
      "            </table>\n",
      "          </form>\n",
      "        </div>\n",
      "      <p>&nbsp;</p></td>\n",
      "    </tr>\n",
      "    <tr>\n",
      "      <td height=\"40\" colspan=\"4\" align=\"center\"><table width=\"100%\" border=\"0\" cellspacing=\"0\" cellpadding=\"0\">\n",
      "  <tr valign=\"top\">\n",
      "    <td width=\"12\" height=\"32\"><img src=\"images/headback_l.jpg\" width=\"12\" height=\"32\" /></td>\n",
      "    <td height=\"32\" background=\"images/headback3.jpg\"><ul id=\"MenuBar1\" class=\"MenuBarHorizontal\">\n",
      "  <li><a href=\"index.asp\">首頁</a></li>\n",
      "  <li><a href=\"indexnews.asp\">新聞中心</a></li>\n",
      "  <li><a href=\"indexbooks.asp\">文淵閣書庫</a></li>\n",
      "  <li><a href=\"indexforum.asp\">交流論壇</a></li>\n",
      "  <li><a href=\"indexabout.asp\">關於文淵閣</a></li>\n",
      "  <li><a href=\"indexweb.asp\">相關網站</a></li>    \n",
      "  <li><a href=\"indextservice.asp\">教師服務</a></li>  \n",
      "  <li><a href=\"indexcontact.asp\">聯絡我們</a></li>\n",
      "</ul>\n",
      "\n",
      "</td>\n",
      "    <td width=\"12\" height=\"32\"><img src=\"images/headback_r.jpg\" width=\"12\" height=\"32\" /></td>\n",
      "  </tr>\n",
      "</table>\n",
      "</td>\n",
      "    </tr>\n",
      "    <tr>\n",
      "      <td height=\"280\" colspan=\"3\" align=\"left\" valign=\"top\"><script src=\"Scripts/jquery-1.4a2.min.js\" type=\"text/javascript\"></script>\n",
      "<script src=\"Scripts/jquery.KinSlideshow-1.2.1.min.js\" type=\"text/javascript\"></script>\n",
      "<script type=\"text/javascript\">\n",
      "$(function(){\n",
      "\t$(\"#KinSlideshow\").KinSlideshow({\n",
      "\t\t\tmoveStyle:\"right\",\n",
      "\t\t\ttitleBar:{titleBar_height:30,titleBar_bgColor:\"#434343\",titleBar_alpha:0.8},\n",
      "\t\t\ttitleFont:{TitleFont_size:15,TitleFont_color:\"#FFFFFF\",TitleFont_weight:\"normal\"},\n",
      "\t\t\tbtn:{btn_bgColor:\"#FFFFFF\",btn_bgHoverColor:\"#000000\",btn_fontColor:\"#000000\",btn_fontHoverColor:\"#FFFFFF\",btn_borderColor:\"#cccccc\",btn_borderHoverColor:\"#1188c0\",btn_borderWidth:0}\n",
      "\t});\n",
      "})\n",
      "</script>\n",
      "<style type=\"text/css\">\n",
      "#ribbon {\n",
      "\tposition:absolute;\n",
      "\tz-index:500;\n",
      "}\n",
      "#adregion {\n",
      "\tmargin-right: auto;\n",
      "\tmargin-left: auto;\n",
      "\tmargin-top: 10px;\n",
      "\tmargin-bottom: 10px;\n",
      "\twidth: 908px;\n",
      "}\n",
      "#adregion2 {\n",
      "\tpadding: 10px;\n",
      "}\n",
      "#adregion #KinSlideshow {\n",
      "\tvisibility:hidden;\n",
      "}\n",
      "</style>\n",
      "<div id=\"adregion\">\n",
      "  <img src=\"banner/img/new-ribbon.png\" alt=\"New Ribbon\" name=\"ribbon\" width=\"112\" height=\"112\" id=\"ribbon\">\n",
      "  <div id=\"adregion2\">\n",
      "  <div id=\"KinSlideshow\">\n",
      "  \n",
      "  <a href=\"http://www.e-happy.com.tw/indexbookshow.asp?bid=308\" target=\"_ehappy\"><img src=\"images/adimg/ACV038700.png\" alt=\"網路開店×拍賣王：蝦皮來了！\" width=\"888\" height=\"250\" /></a>\n",
      "  <a href=\"http://www.e-happy.com.tw/indexbookshow.asp?bid=305\" target=\"_ehappy\"><img src=\"images/adimg/ACU077700.png\" alt=\"用Photoshop玩影像設計比你想的簡單：快快樂樂學Photoshop CC(第二版)\" width=\"888\" height=\"250\" /></a>\n",
      "  <a href=\"http://www.e-happy.com.tw/indexbookshow.asp?bid=304\" target=\"_ehappy\"><img src=\"images/adimg/ACV038600.png\" alt=\"翻倍效率工作術-不會就太可惜的Google超極限應用(第三版)\" width=\"888\" height=\"250\" /></a>\n",
      "  <a href=\"http://www.e-happy.com.tw/indexbookshow.asp?bid=303\" target=\"_ehappy\"><img src=\"images/adimg/ACI031200.png\" alt=\"翻倍效率工作術：不會就太可惜的Excel 必學函數(第二版)\" width=\"888\" height=\"250\" /></a>\n",
      "  <a href=\"http://www.e-happy.com.tw/indexbookshow.asp?bid=298\" target=\"_ehappy\"><img src=\"images/adimg/ACI030900.jpg\" alt=\"翻倍效率工作術–詢問度破表的Office職人技500+\" width=\"888\" height=\"250\" /></a>\n",
      "  <a href=\"http://www.e-happy.com.tw/indexbookshow.asp?bid=297\" target=\"_ehappy\"><img src=\"images/adimg/ACV038300.png\" alt=\"iOS 11+iPhone 8 / 8Plus / X / iPad 完全活用術：225個超進化技巧攻略\" width=\"888\" height=\"250\" /></a>\n",
      "  <a href=\"http://www.e-happy.com.tw/indexbookshow.asp?bid=292\" target=\"_ehappy\"><img src=\"images/adimg/ACI030200.png\" alt=\"翻倍效率工作術：不會就太可惜的Excel+Power BI 大數據視覺圖表設計與分析\" width=\"888\" height=\"250\" /></a>\n",
      "  <a href=\"http://www.e-happy.com.tw/indexbookshow.asp?bid=291\" target=\"_ehappy\"><img src=\"images/adimg/ACL051100.png\" alt=\"會做簡報就會製作跨平台 App：Smart Apps Creator 3 超神開發術\" width=\"888\" height=\"250\" /></a>\n",
      "  <a href=\"http://www.e-happy.com.tw/indexbookshow.asp?bid=285\" target=\"_ehappy\"><img src=\"images/adimg/ACU0756.jpg\" alt=\"快快樂樂學威力導演15 - 影片/MV剪輯活用情報特蒐\" width=\"888\" height=\"250\" /></a>\n",
      "  <a href=\"http://www.e-happy.com.tw/indexbookshow.asp?bid=282\" target=\"_ehappy\"><img src=\"images/adimg/ACI030000.jpg\" alt=\"Excel 2016高效實用範例必修16課-善用資料圖表 x 函數巨集的精算達人\" width=\"888\" height=\"250\" /></a>\n",
      "  <a href=\"http://www.e-happy.com.tw/indexbookshow.asp?bid=288\" target=\"_ehappy\"><img src=\"images/adimg/ACI030700.png\" alt=\"中老年人快樂學電腦(Windows 10+Office 2016)\" width=\"888\" height=\"250\" /></a>  \n",
      "  <a href=\"http://www.e-happy.com.tw/indexbookshow.asp?bid=276\" target=\"_ehappy\"><img src=\"images/adimg/ACV036700-ehappy-01.png\" alt=\"中老年人快樂學Facebook+LINE\" width=\"888\" height=\"250\" /></a>\n",
      "  <a href=\"http://www.e-happy.com.tw/indexbookshow.asp?bid=257\" target=\"_ehappy\"><img src=\"images/adimg/ACI027000.png\" alt=\"翻倍效率工作術：不會就太可惜的Excel必學圖表\" width=\"888\" height=\"250\" /></a>\n",
      "<!--\n",
      "  <a href=\"http://www.e-happy.com.tw/indexbookshow.asp?bid=269\" target=\"_ehappy\"><img src=\"images/adimg/ACV036500.png\" alt=\"翻倍效率工作術：不會就太可惜的Google超極限應用(第二版)\" width=\"888\" height=\"250\" /></a>\n",
      "  <a href=\"http://www.e-happy.com.tw/indexbookshow.asp?bid=240\" target=\"_ehappy\"><img src=\"images/adimg/ACI026400.png\" alt=\"翻倍效率工作術：不會就太可惜的Excel必學函數\" width=\"888\" height=\"250\" /></a>\n",
      "  <a href=\"http://www.e-happy.com.tw/indexbookshow.asp?bid=283\" target=\"_ehappy\"><img src=\"images/adimg/ACV037300.jpg\" alt=\"中老年人愛用APP全收錄(第二版)<適用iOS+Android雙系統手機及平板\" width=\"888\" height=\"250\" /></a>  \n",
      "  <a href=\"http://www.e-happy.com.tw/indexbookshow.asp?bid=278\" target=\"_ehappy\"><img src=\"images/adimg/ACV036700.jpg\" alt=\"中老年人快樂學拍照、攝影\" width=\"888\" height=\"250\" /></a>\n",
      "  <a href=\"http://www.e-happy.com.tw/indexbookshow.asp?bid=277\" target=\"_ehappy\"><img src=\"images/adimg/AEN004300.jpg\" alt=\"生活科技應用網路概論(第二版)\" width=\"888\" height=\"250\" /></a>\n",
      "  <a href=\"#\" target=\"_ehappy\"><img src=\"images/adimg/20180214.png\" alt=\"文淵閣工作室祝大家新年快樂！\" width=\"888\" height=\"250\" /></a>\n",
      "  <a href=\"#\" target=\"_ehappy\"><img src=\"images/adimg/20160915.png\" alt=\"文淵閣祝大家中秋節快樂!\" width=\"888\" height=\"250\" /></a>\n",
      "  <a href=\"http://www.e-happy.com.tw/indexbookshow.asp?bid=260\" target=\"_ehappy\"><img src=\"images/adimg/ACU069600.png\" alt=\"用Photoshop玩影像設計比你想的簡單：快快樂樂學Photoshop CC\" width=\"888\" height=\"250\" /></a>  \n",
      "  <a href=\"http://www.e-happy.com.tw/indexbookshow.asp?bid=272\" target=\"_ehappy\"><img src=\"images/adimg/cu0734.jpg\" alt=\"快快樂樂學威力導演14 - 影片/MV剪輯活用情報特蒐\" width=\"888\" height=\"250\" /></a>\n",
      "  <a href=\"http://www.e-happy.com.tw/indexbookshow.asp?bid=252\"><img src=\"images/adimg/ACV034200.png\" alt=\"中老年人愛用APP全收錄:適用 iOS + Android 雙系統手機及平板\" width=\"888\" height=\"250\" /></a>    \n",
      "  <a href=\"http://www.e-happy.com.tw/indexbookshow.asp?bid=279\" target=\"_ehappy\"><img src=\"images/adimg/ACV037200.jpg\" alt=\"iOS 10+iPhone 7 / 7Plus / iPad 完全活用術\" width=\"888\" height=\"250\" /></a>\n",
      "  <a href=\"http://www.e-happy.com.tw/indexbookshow.asp?bid=262\" target=\"_ehappy\"><img src=\"images/adimg/ACV035600.jpg\" alt=\"iOS 9+iPhone 6s/iPad 完全活用術 - 260個超進化技巧攻略\" width=\"888\" height=\"250\" /></a>  \n",
      "  <a href=\"http://www.e-happy.com.tw/indexbookshow.asp?bid=246\"><img src=\"images/adimg/ACV033300.png\" alt=\"翻倍效率工作術 - 不會就太可惜的 Google雲端應用\" width=\"888\" height=\"250\" /></a>\n",
      "  <a href=\"http://www.e-happy.com.tw/indexbookshow.asp?bid=243\"><img src=\"images/adimg/ACI026700.jpg\" alt=\"中老年人快樂學電腦 - Office 2013\" width=\"888\" height=\"250\" /></a>\n",
      "  <a href=\"http://www.e-happy.com.tw/indexbookshow.asp?bid=241\"><img src=\"images/adimg/cu0661.jpg\" alt=\"快快樂樂學威力導演12：影片/MV剪輯活用情報特蒐\" width=\"888\" height=\"250\" /></a>\n",
      "  <a href=\"http://www.e-happy.com.tw/indexbookshow.asp?bid=248\"><img src=\"images/adimg/ACL043900.png\" alt=\"Swift初學特訓班：iOS App開發快速養成與實戰\" width=\"888\" height=\"250\" /></a>\n",
      "  <a href=\"http://www.e-happy.com.tw/indexbookshow.asp?bid=247\"><img src=\"images/adimg/ACV033800.png\" alt=\"iOS 8+iPhone 6/iPad 完全活用術 - 260個超進化技巧攻略\" width=\"888\" height=\"250\" /></a>\n",
      "  <a href=\"#\" target=\"_ehappy\"><img src=\"images/adimg/2016cny.png\" alt=\"文淵閣工作室祝您猴年大吉！\" width=\"888\" height=\"250\" /></a>\n",
      "  <a href=\"javascript:alert('祝中秋節快樂!');\"><img src=\"images/adimg/20150925.png\" alt=\"文淵閣工作室祝您中秋節快樂!\" width=\"888\" height=\"250\" /></a>\n",
      "  <a href=\"http://www.e-happy.com.tw/indexbookshow.asp?bid=218\"><img src=\"images/adimg/ACU063700.jpg\" alt=\"用Flash CS6玩動畫比你想的簡單\" width=\"888\" height=\"250\" /></a>\n",
      "  <a href=\"http://www.e-happy.com.tw/indexbookshow.asp?bid=216\"><img src=\"images/adimg/ACU062200.jpg\" alt=\"用Photoshop玩影像設計比你想的簡單\" width=\"888\" height=\"250\" /></a>\n",
      "  <a href=\"http://www.e-happy.com.tw/indexbookshow.asp?bid=214\"><img src=\"images/adimg/ACU062400.jpg\" alt=\"Dreamweaver CS6網頁製作比你想的簡單\" width=\"888\" height=\"250\" /></a>  \n",
      "  <a href=\"http://www.e-happy.com.tw/indexbookshow.asp?bid=229\"><img src=\"images/adimg/ACL039400.png\" alt=\"手機應用程式設計超簡單-APP Inventor零基礎入門班\" width=\"888\" height=\"250\" /></a>  \n",
      "  <a href=\"http://www.e-happy.com.tw/indexbookshow.asp?bid=223\"><img src=\"images/adimg/ACL035132.png\" alt=\"Android 初學特訓班:精典熱賣第 3 版!! \" width=\"888\" height=\"250\" /></a>\n",
      "  <a href=\"http://www.books.com.tw/exep/prod/booksfile.php?item=0010549777\"><img src=\"images/adimg/ACI022900.jpg\" alt=\"意想不到的MAC電腦活用妙招：省時x快速x實用的密技特蒐\" width=\"888\" height=\"250\" /></a>\n",
      "  <a href=\"http://www.e-happy.com.tw/indexbookshow.asp?bid=209\"><img src=\"images/adimg/CU061.jpg\" alt=\"影片/MV剪輯活用情報特蒐：快快樂樂學 會聲會影X5\" width=\"888\" height=\"250\" /></a>\n",
      "  <a href=\"http://www.e-happy.com.tw/indexbookshow.asp?bid=208\"><img src=\"images/adimg/aci022300.jpg\" alt=\"最強！Office 即效實用密技 500+\" width=\"888\" height=\"250\" /></a>\n",
      "  <a href=\"http://www.e-happy.com.tw/indexbookshow.asp?bid=235\"><img src=\"images/adimg/ACV031500.png\" alt=\"不平凡的攝影視角--快拍、快修的必學秘技\" width=\"888\" height=\"250\" /></a>\n",
      "  <a href=\"http://www.e-happy.com.tw/indexbookshow.asp?bid=234\"><img src=\"images/adimg/ACV031200.jpg\" alt=\"中老年人快樂學 FACEBOOK 臉書\" width=\"888\" height=\"250\" /></a>\n",
      "  <a href=\"http://www.e-happy.com.tw/indexbooks.asp?btype=1\"><img src=\"images/adimg/office2013.png\" alt=\"Office2013系列全新上巿，不可錯過！\" width=\"888\" height=\"250\" /></a>\n",
      "  <a href=\"http://www.e-happy.com.tw/indexbookshow.asp?bid=230\"><img src=\"images/adimg/ACI025200.jpg\" alt=\"Word 2013高效實用範例必修16課\" width=\"888\" height=\"250\" /></a>\n",
      "  <a href=\"http://www.e-happy.com.tw/indexbookshow.asp?bid=228\"><img src=\"images/adimg/ACIO25800.jpg\" alt=\"PowerPoint 2013高效實用範例必修16課\" width=\"888\" height=\"250\" /></a>\n",
      "  <a href=\"http://www.e-happy.com.tw/indexbookshow.asp?bid=222\"><img src=\"images/adimg/ACI025000.jpg\" alt=\"中老年人快樂學電腦 (Windows 8+Office 2013)\" width=\"888\" height=\"250\" /></a>\n",
      "  <a href=\"http://www.e-happy.com.tw/indexbookshow.asp?bid=200\"><img src=\"images/adimg/ACI021600.jpg\" alt=\"中老年人快樂學電腦＜超大圖解好閱讀，教學影片好上手＞\" width=\"888\" height=\"250\" /></a>  \n",
      "  <a href=\"http://www.e-happy.com.tw/indexbookshow.asp?bid=219\"><img src=\"images/adimg/ACV02800.jpg\" alt=\"中老年人快樂學 iPad\" width=\"888\" height=\"250\" /></a>\n",
      "  <a href=\"http://www.e-happy.com.tw/indexbookshow.asp?bid=198\"><img src=\"images/adimg/CI213.jpg\" alt=\"意想不到的電腦活用妙招 -省時x快速x實用的密秘技特蒐\" width=\"888\" height=\"250\" /></a>  \n",
      "  <a href=\"http://www.e-happy.com.tw/indexbookshow.asp?bid=211\"><img src=\"images/adimg/ACA018100-ad.jpg\" alt=\"OS X Mountain Lion完全活用手冊\" width=\"888\" height=\"250\" /></a>\n",
      "  <a href=\"http://www.e-happy.com.tw/indexbookshow.asp?bid=205\"><img src=\"images/adimg/ACA017300.jpg\" alt=\"Mac完全上手一本通--OS X Lion (非看不可の超人氣活用玩樂術)\" width=\"888\" height=\"250\" /></a>\n",
      "  <a href=\"http://www.e-happy.com.tw/indexbookshow.asp?bid=204\"><img src=\"images/adimg/ACV025800.jpg\" alt=\"Keynote (Mac x iPad x iPhone)全面啟動：賈伯斯完美簡報的成功關鍵\" width=\"888\" height=\"250\" /></a>\n",
      "  <a href=\"http://www.e-happy.com.tw/indexbookshow.asp?bid=202\"><img src=\"images/adimg/CI0220.jpg\" alt=\"Office 2003高效實用範例必修16課\" width=\"888\" height=\"250\" /></a> \n",
      "  <a href=\"http://www.e-happy.com.tw/indexbookshow.asp?bid=192\"><img src=\"images/adimg/CI0200.jpg\" alt=\"PowerPoint 2010高效實用範例必修16課\" width=\"888\" height=\"250\" /></a>\n",
      "  <a href=\"http://www.e-happy.com.tw/indexbookshow.asp?bid=196\"><img src=\"images/adimg/ci0208.jpg\" alt=\"Word 2010高效實用範例必修16課\" width=\"888\" height=\"250\" /></a>\n",
      "  <a href=\"http://www.e-happy.com.tw/indexbookshow.asp?bid=192\"><img src=\"images/adimg/CI0200.jpg\" alt=\"PowerPoint 2010高效實用範例必修16課\" width=\"888\" height=\"250\" /></a>\n",
      "  <a href=\"http://www.e-happy.com.tw/indexbookshow.asp?bid=187\"><img src=\"images/adimg/CI197banner.png\" alt=\"Office 2010 完全圖解、範例式導引最佳書籍！\" width=\"888\" height=\"250\" /></a>\n",
      "  <a href=\"javascript:alert('祝中秋節快樂!');\"><img src=\"images/adimg/midAutumnFestiva.png\" alt=\"文淵閣工作室祝您中秋節快樂!\" width=\"888\" height=\"250\" /></a>\n",
      "  <a href=\"javascript:alert('祝中秋節快樂!');\"><img src=\"images/adimg/WR Banner.png\" alt=\"文淵閣工作室祝您中秋節快樂!\" width=\"888\" height=\"250\" /></a>\n",
      "  <a href=\"http://www.e-happy.com.tw/\"><img src=\"images/adimg/HappyNewYear.jpg\" alt=\"文淵閣工作室祝大家新年快樂！\" width=\"888\" height=\"250\" /></a>\n",
      "  <a href=\"javascript:alert('祝中秋節快樂!');\"><img src=\"images/adimg/中秋節banner.jpg\" alt=\"文淵閣工作室祝您中秋節快樂!\" width=\"888\" height=\"250\" /></a>\n",
      "  <a href=\"http://www.e-happy.com.tw/indexbookshow.asp?bid=186\"><img src=\"images/adimg/cu0587.jpg\" alt=\"嚴選美型編修絕招！照片這樣修就很吸引人！透亮光感肌 x 臉部微整型 x 局部塑身術 x 美型創意學\" width=\"888\" height=\"250\" /></a>\n",
      "  <a href=\"http://www.e-happy.com.tw/indexbookshow.asp?bid=183\"><img src=\"images/adimg/cu0582.jpg\" alt=\"用Photoshop玩影像設計比你想的簡單\" width=\"888\" height=\"250\" /></a>\n",
      "  <a href=\"http://www.e-happy.com.tw/indexbookshow.asp?bid=189\"><img src=\"images/adimg/CU0596.jpg\" alt=\"影片/MV剪輯活用情報特蒐--快快樂樂學 會聲會影X4 \" width=\"888\" height=\"250\" /></a>\n",
      "  <a href=\"http://www.e-happy.com.tw/indexbookshow.asp?bid=188\"><img src=\"images/adimg/EL0114.jpg\" alt=\"ASP.NET 4.0 網頁程式設計速學對策(使用C#)\" width=\"888\" height=\"250\" /></a>    \n",
      "-->  \n",
      "  </div>\n",
      "  </div>\n",
      "</div>\n",
      "</td>\n",
      "    </tr>\n",
      "    <tr>\n",
      "      <td colspan=\"3\">\n",
      "      <table width=\"100%\" border=\"0\" cellpadding=\"0\" cellspacing=\"1\">\n",
      "<tr valign=\"top\">\n",
      "      <td width=\"590\" valign=\"top\">\n",
      "      <div id=\"TabbedPanels1\" class=\"TabbedPanels\">\n",
      "        <ul class=\"TabbedPanelsTabGroup\">\n",
      "          <li class=\"TabbedPanelsTab\" tabindex=\"0\" onclick=\"Spry.Utils.updateContent('mc1','page_news.asp');\">最新消息</li>\n",
      "          <li class=\"TabbedPanelsTab\" tabindex=\"0\" onclick=\"window.location='indexforum.asp'\">最新討論</li>\n",
      "</ul>\n",
      "        <div class=\"TabbedPanelsContentGroup\">\n",
      "          <div class=\"TabbedPanelsContent\" id=\"mc1\">載入中....</div>\n",
      "          <div class=\"TabbedPanelsContent\" id=\"mc2\">載入中....</div>\n",
      "</div>\n",
      "      </div>    \n",
      "        <div id=\"TabbedPanels2\" class=\"TabbedPanels\">\n",
      "          <ul class=\"TabbedPanelsTabGroup\">\n",
      "            <li class=\"TabbedPanelsTab\" tabindex=\"0\" onclick=\"Spry.Utils.updateContent('nc1','page_newbook1.asp');\">新書快訊</li>\n",
      "  </ul>\n",
      "          <div class=\"TabbedPanelsContentGroup\">\n",
      "            <div class=\"TabbedPanelsContent\" id=\"nc1\">載入中....</div>\n",
      "          </div>\n",
      "      </div>\n",
      "      </td>\n",
      "      <td width=\"5\"></td>\n",
      "      <td width=\"319\" align=\"center\" valign=\"top\" bgcolor=\"#f2f2f2\"><h1 class=\"h1function\">&nbsp;</h1>\n",
      "        <table width=\"310\" border=\"0\" cellpadding=\"0\" cellspacing=\"0\">\n",
      "          <tr>\n",
      "            <td><img src=\"images/block6_t.gif\" width=\"310\" height=\"32\" /></td>\n",
      "          </tr>\n",
      "          <tr>\n",
      "            <td align=\"center\" background=\"images/block_m.gif\">\n",
      "<table width=\"90%\" border=\"0\" cellpadding=\"5\" cellspacing=\"0\">\n",
      "  \n",
      "  <tr class=\"trBline\">\n",
      "    <td><a href='http://blog.e-happy.com.tw/?p=8480' target='_blank'>[Python] 擷取部份的字串：Slicing</a></td>\n",
      "  </tr>\n",
      "  \n",
      "  <tr class=\"trBline\">\n",
      "    <td><a href='http://blog.e-happy.com.tw/?p=8466' target='_blank'>[EXCEL] Excel打開是亂碼？快速找回資料的最好方法！</a></td>\n",
      "  </tr>\n",
      "  \n",
      "  <tr class=\"trBline\">\n",
      "    <td><a href='http://blog.e-happy.com.tw/?p=8301' target='_blank'>舊機換新機的救星！</a></td>\n",
      "  </tr>\n",
      "  \n",
      "  <tr class=\"trBline\">\n",
      "    <td><a href='http://blog.e-happy.com.tw/?p=8248' target='_blank'>不會程式也能做 App – 利用 SAC 模版快速完成電子相簿 App</a></td>\n",
      "  </tr>\n",
      "  \n",
      "  <tr class=\"trBline\">\n",
      "    <td><a href='http://blog.e-happy.com.tw/?p=8221' target='_blank'>【iOS11】讓它升！讓它升！史上最快速方便的iOS升級密技！</a></td>\n",
      "  </tr>\n",
      "  \n",
      "  <tr class=\"trBline\">\n",
      "    <td><a href='http://blog.e-happy.com.tw/?p=8212' target='_blank'>Excel + Power BI 為何就是絕妙搭配？</a></td>\n",
      "  </tr>\n",
      "  \n",
      "  <tr class=\"trBline\">\n",
      "    <td><a href='http://blog.e-happy.com.tw/?p=8195' target='_blank'>POS使用Uniform Server資料庫</a></td>\n",
      "  </tr>\n",
      "  \n",
      "  <tr class=\"trBline\">\n",
      "    <td><a href='http://blog.e-happy.com.tw/?p=8180' target='_blank'>使用 Uniform Server資料庫</a></td>\n",
      "  </tr>\n",
      "  \n",
      "  <tr class=\"trBline\">\n",
      "    <td><a href='http://blog.e-happy.com.tw/?p=8169' target='_blank'>在 python 3.4 中安裝 opencv3</a></td>\n",
      "  </tr>\n",
      "  \n",
      "  <tr class=\"trBline\">\n",
      "    <td><a href='http://blog.e-happy.com.tw/?p=8113' target='_blank'>[App Inventor] 使用 Google Cloud 在 Google App Engine 架設網路伺服器(TinyWebDB)</a></td>\n",
      "  </tr>\n",
      "  \n",
      "</table></td>\n",
      "          </tr>\n",
      "          <tr>\n",
      "            <td><img src=\"images/block_b.gif\" width=\"310\" height=\"12\" /></td>\n",
      "          </tr>\n",
      "        </table>        \n",
      "        <table width=\"310\" border=\"0\" cellpadding=\"0\" cellspacing=\"0\">\n",
      "          <tr>\n",
      "            <td><img src=\"images/block4_t.gif\" width=\"310\" height=\"32\" /></td>\n",
      "          </tr>\n",
      "          <tr>\n",
      "            <td background=\"images/block_m.gif\"><form action=\"indexbooks.asp\" method=\"get\" name=\"forumSearch\" class=\"formarea\" id=\"forumSearch\">\n",
      "              <label for=\"colname\">項目：</label>\n",
      "              <select name=\"colname\" id=\"colname\">\n",
      "                <option value=\"\" selected=\"selected\">不限</option>\n",
      "                <option value=\"p_name\">書名</option>\n",
      "                <option value=\"p_no\">出版社書號</option>\n",
      "                <option value=\"p_isbn\">ISBN</option>\n",
      "              </select>\n",
      "              <br />\n",
      "              <label for=\"keyword\">關鍵字：</label>\n",
      "              <input name=\"keyword\" type=\"text\" id=\"keyword\" size=\"15\" />\n",
      "              <input type=\"submit\" value=\"搜尋\" />\n",
      "            </form></td>\n",
      "          </tr>\n",
      "          <tr>\n",
      "            <td><img src=\"images/block_b.gif\" width=\"310\" height=\"12\" /></td>\n",
      "          </tr>\n",
      "          <tr>\n",
      "            <td height=\"5\"></td>\n",
      "          </tr>   \n",
      "          <tr>\n",
      "            <td>\n",
      "            <div class=\"fb-like-box\" data-href=\"https://www.facebook.com/ehappytw\" data-width=\"310\" data-height=\"500\" data-show-faces=\"true\" data-stream=\"false\" data-show-border=\"true\" data-header=\"false\"></div>             \n",
      "            </td>\n",
      "          </tr>  \n",
      "          <tr>\n",
      "            <td height=\"5\"></td>\n",
      "          </tr>                         \n",
      "        </table></td>\n",
      "    </tr>\n",
      "</table>\n",
      "      </td>\n",
      "    </tr>    \n",
      "    <tr>\n",
      "      <td height=\"1\" colspan=\"4\" bgcolor=\"#b3b3b3\"></td>\n",
      "    </tr>\n",
      "    <tr>\n",
      "      <td height=\"60\" colspan=\"4\" align=\"left\"><img src=\"images/ehappy2010_r14_c4.gif\" width=\"127\" height=\"34\" /></td>\n",
      "    </tr>\n",
      "  </table>\n",
      "</div>\n",
      "<script type=\"text/javascript\">\n",
      "<!--\n",
      "var MenuBar1 = new Spry.Widget.MenuBar(\"MenuBar1\", {imgDown:\"Scripts/SpryMenuBarDownHover.gif\", imgRight:\"Scripts/SpryMenuBarRightHover.gif\"});\n",
      "var TabbedPanels1 = new Spry.Widget.TabbedPanels(\"TabbedPanels1\");\n",
      "var TabbedPanels2 = new Spry.Widget.TabbedPanels(\"TabbedPanels2\");\n",
      "Spry.Utils.updateContent('mc1','page_news.asp');\n",
      "Spry.Utils.updateContent('nc1','page_newbook1.asp');\n",
      "//-->\n",
      "</script>\n",
      "<script type=\"text/javascript\">\n",
      "\n",
      "  var _gaq = _gaq || [];\n",
      "  _gaq.push(['_setAccount', 'UA-24221826-1']);\n",
      "  _gaq.push(['_setDomainName', '.e-happy.com.tw']);\n",
      "  _gaq.push(['_trackPageview']);\n",
      "\n",
      "  (function() {\n",
      "    var ga = document.createElement('script'); ga.type = 'text/javascript'; ga.async = true;\n",
      "    ga.src = ('https:' == document.location.protocol ? 'https://ssl' : 'http://www') + '.google-analytics.com/ga.js';\n",
      "    var s = document.getElementsByTagName('script')[0]; s.parentNode.insertBefore(ga, s);\n",
      "  })();\n",
      "\n",
      "</script>\n",
      "</body>\n",
      "</html>\n"
     ]
    }
   ],
   "source": [
    "import requests\n",
    "url = 'http://www.e-happy.com.tw'\n",
    "html = requests.get(url)\n",
    "html.encoding=\"utf-8\"\n",
    "htmllist = html.text.splitlines()\n",
    "for row in htmllist:\n",
    "   print(row)"
   ]
  },
  {
   "cell_type": "code",
   "execution_count": 136,
   "metadata": {},
   "outputs": [
    {
     "name": "stdout",
     "output_type": "stream",
     "text": [
      "共有12次\n"
     ]
    }
   ],
   "source": [
    "import requests\n",
    "url = 'http://www.e-happy.com.tw'\n",
    "html = requests.get(url)\n",
    "html.encoding=\"utf-8\"\n",
    "htmllist = html.text.splitlines()\n",
    "n=0\n",
    "for row in htmllist:\n",
    "    if \"文\" in row:\n",
    "        n+=1\n",
    "\n",
    "print(\"共有{}次\".format(n))"
   ]
  },
  {
   "cell_type": "code",
   "execution_count": null,
   "metadata": {
    "collapsed": true
   },
   "outputs": [],
   "source": []
  }
 ],
 "metadata": {
  "kernelspec": {
   "display_name": "Python 3",
   "language": "python",
   "name": "python3"
  },
  "language_info": {
   "codemirror_mode": {
    "name": "ipython",
    "version": 3
   },
   "file_extension": ".py",
   "mimetype": "text/x-python",
   "name": "python",
   "nbconvert_exporter": "python",
   "pygments_lexer": "ipython3",
   "version": "3.6.3"
  }
 },
 "nbformat": 4,
 "nbformat_minor": 2
}
