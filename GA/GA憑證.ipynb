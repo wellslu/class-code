{
 "cells": [
  {
   "cell_type": "code",
   "execution_count": 1,
   "metadata": {},
   "outputs": [
    {
     "data": {
      "text/plain": [
       "'C:\\\\Users\\\\wells'"
      ]
     },
     "execution_count": 1,
     "metadata": {},
     "output_type": "execute_result"
    }
   ],
   "source": [
    "import os\n",
    "os.getcwd()"
   ]
  },
  {
   "cell_type": "code",
   "execution_count": 1,
   "metadata": {},
   "outputs": [
    {
     "name": "stdout",
     "output_type": "stream",
     "text": [
      "ga:city: (not set)\n",
      "ga:sessions: 71\n",
      "ga:city: Dearborn\n",
      "ga:sessions: 36\n",
      "ga:city: Zhongli District\n",
      "ga:sessions: 3\n",
      "ga:city: East Lansing\n",
      "ga:sessions: 1\n",
      "ga:city: Taoyuan District\n",
      "ga:sessions: 1\n"
     ]
    },
    {
     "data": {
      "image/png": "[encoded data removed]",
      "text/plain": [
       "<matplotlib.figure.Figure at 0x20aaee487b8>"
      ]
     },
     "metadata": {},
     "output_type": "display_data"
    }
   ],
   "source": [
    "from apiclient.discovery import build\n",
    "from oauth2client.service_account import ServiceAccountCredentials\n",
    "import httplib2\n",
    "\n",
    "import matplotlib.pyplot as plt\n",
    "from matplotlib.font_manager import FontProperties\n",
    "import numpy as np\n",
    "\n",
    "\n",
    "SCOPES = ['https://www.googleapis.com/auth/analytics.readonly']\n",
    "KEY_FILE_LOCATION = 'My Project 93828-6d6dd0c427ee.json' #API金鑰\n",
    "VIEW_ID = '190541410' #Google Analytics 資料檢視層ID\n",
    "\n",
    "\n",
    "\n",
    "\n",
    "# Reporting API初始化與授權\n",
    "\n",
    "def initialize_analyticsreporting():\n",
    " \n",
    "  credentials = ServiceAccountCredentials.from_json_keyfile_name(\n",
    "      KEY_FILE_LOCATION, SCOPES)\n",
    "\n",
    "  # Build the service object.\n",
    "  analytics = build('analyticsreporting', 'v4', credentials=credentials)\n",
    "\n",
    "  return analytics\n",
    "\n",
    "\n",
    "# 建立Google Analytics報表\n",
    "\n",
    "def get_report(analytics):\n",
    "  \n",
    "  \n",
    "  return analytics.reports().batchGet(\n",
    "      body={\n",
    "        'reportRequests': [\n",
    "            {\n",
    "                'viewId': VIEW_ID,\n",
    "                'dateRanges': [{'startDate': '30daysAgo', 'endDate': 'today'}],\n",
    "                'metrics': [{'expression': 'ga:sessions'}],\n",
    "                'dimensions': [{\"name\": \"ga:city\"}],\n",
    "                'orderBys': [{\"fieldName\": \"ga:sessions\", \"sortOrder\": \"DESCENDING\"}],\n",
    "                'pageSize': 10\n",
    "            }]\n",
    "    }\n",
    "  ).execute()\n",
    "\n",
    "\n",
    "# 顯示Google Analytics報表\n",
    "\n",
    "def print_response(response):\n",
    "    \n",
    "  cities = []\n",
    "  val = []\n",
    "  \n",
    "  for report in response.get('reports', []): #將上述reports回應的內容取回並做為for迴圈基底\n",
    "    columnHeader = report.get('columnHeader', {}) \n",
    "    dimensionHeaders = columnHeader.get('dimensions', [])\n",
    "    metricHeaders = columnHeader.get('metricHeader', {}).get('metricHeaderEntries', [])\n",
    "\n",
    "    for row in report.get('data', {}).get('rows', []):\n",
    "      dimensions = row.get('dimensions', [])\n",
    "      dateRangeValues = row.get('metrics', [])\n",
    "\n",
    "      for header, dimension in zip(dimensionHeaders, dimensions):\n",
    "        cities.append(dimension)\n",
    "        print (header + ': ' + dimension)\n",
    "        \n",
    "\n",
    "      for i, values in enumerate(dateRangeValues):\n",
    "        \n",
    "        for metricHeader, value in zip(metricHeaders, values.get('values')):\n",
    "          val.append(int(value))\n",
    "          print (metricHeader.get('name') + ': ' + value)          \n",
    "  \n",
    "   #Matplot繪圖\n",
    "\n",
    "    val.reverse()\n",
    "    cities.reverse()\n",
    " \n",
    "   #繪製水平柱狀圖\n",
    "    \n",
    "    plt.barh(np.arange(len(cities)), val, align='center', alpha=1.0) #依照城市個數來製作每一城市的來源流量柱條\n",
    "    plt.yticks(np.arange(len(cities)), cities) #依照城市個數來製作Y軸城市名稱\n",
    " \n",
    "   #安排圖形資訊\n",
    "    font = FontProperties(fname=r\"c:\\windows\\fonts\\SimSun.ttc\", size=14) #加入中文字型以避免亂碼\n",
    "    plt.xlabel('進站次數 (sessions)', fontproperties=font) #繪製X軸標籤\n",
    "    plt.title('過去30天前十大流量來源城市', fontproperties=font) #繪製圖形標題名稱\n",
    " \n",
    "   #顯示圖形成果\n",
    "    plt.show()\n",
    "\n",
    "\n",
    "def main():\n",
    "  \n",
    "  analytics = initialize_analyticsreporting()\n",
    "  response = get_report(analytics)\n",
    "  print_response(response)\n",
    "\n",
    "if __name__ == '__main__':\n",
    "  main()"
   ]
  },
  {
   "cell_type": "code",
   "execution_count": null,
   "metadata": {
    "collapsed": true
   },
   "outputs": [],
   "source": []
  }
 ],
 "metadata": {
  "kernelspec": {
   "display_name": "Python 3",
   "language": "python",
   "name": "python3"
  },
  "language_info": {
   "codemirror_mode": {
    "name": "ipython",
    "version": 3
   },
   "file_extension": ".py",
   "mimetype": "text/x-python",
   "name": "python",
   "nbconvert_exporter": "python",
   "pygments_lexer": "ipython3",
   "version": "3.6.3"
  }
 },
 "nbformat": 4,
 "nbformat_minor": 2
}
