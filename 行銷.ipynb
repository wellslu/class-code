{
 "cells": [
  {
   "cell_type": "code",
   "execution_count": 1,
   "metadata": {
    "collapsed": true
   },
   "outputs": [],
   "source": [
    "import pandas as pd\n",
    "import numpy as np"
   ]
  },
  {
   "cell_type": "code",
   "execution_count": 2,
   "metadata": {
    "collapsed": true
   },
   "outputs": [],
   "source": [
    "data=pd.read_excel('任天堂.xlsx')"
   ]
  },
  {
   "cell_type": "code",
   "execution_count": 3,
   "metadata": {
    "collapsed": true
   },
   "outputs": [],
   "source": [
    "data=data.drop('時間戳記',axis=1)"
   ]
  },
  {
   "cell_type": "code",
   "execution_count": null,
   "metadata": {},
   "outputs": [],
   "source": [
    "for a in range(262):\n",
    "    if data['你的職業 ?'][a].find('學')==0:\n",
    "        print(data[a:a+1])\n",
    "    elif data['你的職業 ?'][a].find('學')==1:\n",
    "        print(data[a:a+1])"
   ]
  },
  {
   "cell_type": "code",
   "execution_count": 5,
   "metadata": {},
   "outputs": [
    {
     "name": "stdout",
     "output_type": "stream",
     "text": [
      "4 142 114 2\n"
     ]
    }
   ],
   "source": [
    "z2s=0\n",
    "e2t=0\n",
    "t2s=0\n",
    "sf=0\n",
    "for a in range(262):\n",
    "    if data['你的年齡 ?'][a]=='18~30歲':\n",
    "        e2t=e2t+1\n",
    "    elif data['你的年齡 ?'][a]=='31~65歲':\n",
    "        t2s=t2s+1\n",
    "    elif data['你的年齡 ?'][a]=='0~17歲':\n",
    "        z2s=z2s+1\n",
    "    elif data['你的年齡 ?'][a]=='65歲以上':\n",
    "        sf=sf+1\n",
    "print(z2s,e2t,t2s,sf)"
   ]
  },
  {
   "cell_type": "code",
   "execution_count": 6,
   "metadata": {},
   "outputs": [
    {
     "name": "stdout",
     "output_type": "stream",
     "text": [
      "80 182\n"
     ]
    }
   ],
   "source": [
    "man=0\n",
    "woman=0\n",
    "for a in range(262):\n",
    "    if data['你的性別 ?'][a]=='男':\n",
    "        man=man+1\n",
    "    elif data['你的性別 ?'][a]=='女':\n",
    "        woman=woman+1\n",
    "print(man,woman)"
   ]
  },
  {
   "cell_type": "code",
   "execution_count": 7,
   "metadata": {
    "collapsed": true
   },
   "outputs": [],
   "source": [
    "data1=data[data['你會想買哪一台 ?'].isin(['Switch'])]\n",
    "data1=data1.reset_index(drop=True)"
   ]
  },
  {
   "cell_type": "code",
   "execution_count": 8,
   "metadata": {
    "collapsed": true
   },
   "outputs": [],
   "source": [
    "data2=data[data['你會想購買Switch嗎 ?'].isin(['想'])]\n",
    "data2=data2.reset_index(drop=True)"
   ]
  },
  {
   "cell_type": "code",
   "execution_count": 9,
   "metadata": {},
   "outputs": [
    {
     "name": "stdout",
     "output_type": "stream",
     "text": [
      "9 23\n"
     ]
    }
   ],
   "source": [
    "man=0\n",
    "woman=0\n",
    "for a in range(32):\n",
    "    if data1['你的性別 ?'][a]=='男':\n",
    "        man=man+1\n",
    "    elif data1['你的性別 ?'][a]=='女':\n",
    "        woman=woman+1\n",
    "print(man,woman)"
   ]
  },
  {
   "cell_type": "code",
   "execution_count": 10,
   "metadata": {},
   "outputs": [
    {
     "name": "stdout",
     "output_type": "stream",
     "text": [
      "11 12\n"
     ]
    }
   ],
   "source": [
    "man=0\n",
    "woman=0\n",
    "for a in range(23):\n",
    "    if data2['你的性別 ?'][a]=='男':\n",
    "        man=man+1\n",
    "    elif data2['你的性別 ?'][a]=='女':\n",
    "        woman=woman+1\n",
    "print(man,woman)"
   ]
  },
  {
   "cell_type": "code",
   "execution_count": 11,
   "metadata": {},
   "outputs": [
    {
     "name": "stdout",
     "output_type": "stream",
     "text": [
      "30 2\n"
     ]
    }
   ],
   "source": [
    "e2t=0\n",
    "t2s=0\n",
    "for a in range(32):\n",
    "    if data1['你的年齡 ?'][a]=='18~30歲':\n",
    "        e2t=e2t+1\n",
    "    elif data1['你的年齡 ?'][a]=='31~65歲':\n",
    "        t2s=t2s+1\n",
    "print(e2t,t2s)"
   ]
  },
  {
   "cell_type": "code",
   "execution_count": 12,
   "metadata": {},
   "outputs": [
    {
     "name": "stdout",
     "output_type": "stream",
     "text": [
      "14 7\n"
     ]
    }
   ],
   "source": [
    "e2t=0\n",
    "t2s=0\n",
    "for a in range(23):\n",
    "    if data2['你的年齡 ?'][a]=='18~30歲':\n",
    "        e2t=e2t+1\n",
    "    elif data2['你的年齡 ?'][a]=='31~65歲':\n",
    "        t2s=t2s+1\n",
    "print(e2t,t2s)"
   ]
  },
  {
   "cell_type": "code",
   "execution_count": 13,
   "metadata": {
    "collapsed": true
   },
   "outputs": [],
   "source": [
    "data1.to_csv(r'C:\\Users\\wells\\Desktop\\data1.csv',index=False)"
   ]
  },
  {
   "cell_type": "code",
   "execution_count": 14,
   "metadata": {
    "collapsed": true
   },
   "outputs": [],
   "source": [
    "data2.to_csv(r'C:\\Users\\wells\\Desktop\\data2.csv',index=False)"
   ]
  },
  {
   "cell_type": "code",
   "execution_count": null,
   "metadata": {
    "collapsed": true
   },
   "outputs": [],
   "source": []
  }
 ],
 "metadata": {
  "kernelspec": {
   "display_name": "Python 3",
   "language": "python",
   "name": "python3"
  },
  "language_info": {
   "codemirror_mode": {
    "name": "ipython",
    "version": 3
   },
   "file_extension": ".py",
   "mimetype": "text/x-python",
   "name": "python",
   "nbconvert_exporter": "python",
   "pygments_lexer": "ipython3",
   "version": "3.7.3"
  }
 },
 "nbformat": 4,
 "nbformat_minor": 2
}
