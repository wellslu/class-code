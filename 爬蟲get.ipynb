{
 "cells": [
  {
   "cell_type": "code",
   "execution_count": null,
   "metadata": {
    "collapsed": true
   },
   "outputs": [],
   "source": [
    "import requests\n",
    "from bs4 import BeautifulSoup\n",
    "res=requests.get('')\n",
    "soup=BeautifulSoup(res.text,'html.parser')\n",
    "clean = soup.select('')\n",
    "for item in clean:\n",
    "    title=item.select('')[0].text\n",
    "    print(title)\n",
    "    \n",
    "import shutil\n",
    "for img in soup.select(''):\n",
    "    fname=(img['src'],img['src'].split('/')[-1])\n",
    "    res2=requests.get(img['src'],stream=True)\n",
    "    f=open('fname','wb')\n",
    "    shutil.copyfileobj(res2.raw,f)\n",
    "    f.close()"
   ]
  }
 ],
 "metadata": {
  "kernelspec": {
   "display_name": "Python 3",
   "language": "python",
   "name": "python3"
  },
  "language_info": {
   "codemirror_mode": {
    "name": "ipython",
    "version": 3
   },
   "file_extension": ".py",
   "mimetype": "text/x-python",
   "name": "python",
   "nbconvert_exporter": "python",
   "pygments_lexer": "ipython3",
   "version": "3.6.3"
  }
 },
 "nbformat": 4,
 "nbformat_minor": 2
}
